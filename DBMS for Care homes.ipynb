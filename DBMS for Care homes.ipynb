{
 "cells": [
  {
   "cell_type": "markdown",
   "id": "445ed378",
   "metadata": {},
   "source": [
    "# Care patient management system"
   ]
  },
  {
   "cell_type": "code",
   "execution_count": 2,
   "id": "b9fa56fe",
   "metadata": {},
   "outputs": [],
   "source": [
    "import sqlite3 as sql\n",
    "import pymongo\n",
    "from pymongo import MongoClient\n",
    "import ipywidgets as widgets\n",
    "from ipywidgets import Button, Layout, Textarea, HBox, VBox\n",
    "from IPython.display import display, clear_output\n",
    "import uuid\n",
    "import pandas as pd\n",
    "import numpy as np"
   ]
  },
  {
   "cell_type": "markdown",
   "id": "e8c5a76e",
   "metadata": {},
   "source": [
    "# SQL Create - SQLite 3 "
   ]
  },
  {
   "cell_type": "code",
   "execution_count": 6,
   "id": "d4d3bea5",
   "metadata": {},
   "outputs": [],
   "source": [
    "# Establish connection and configuration \n",
    "db = \"care_db.db\"\n",
    "connection = sql.connect(db)\n",
    "cur = connection.cursor()"
   ]
  },
  {
   "cell_type": "code",
   "execution_count": 130,
   "id": "2dcb74eb",
   "metadata": {},
   "outputs": [
    {
     "data": {
      "text/plain": [
       "<sqlite3.Cursor at 0x17795fdff40>"
      ]
     },
     "execution_count": 130,
     "metadata": {},
     "output_type": "execute_result"
    }
   ],
   "source": [
    "# CREATE patient table with basic patient details\n",
    "cur.execute('''CREATE TABLE patient (patient_id INTEGER PRIMARY KEY AUTOINCREMENT, first_name TEXT (20) NOT NULL, last_name TEXT (20) NOT NULL, dob DATE NOT NULL, room_no INTEGER(3) NOT NULL,emergency_contact BIGINT(14) NOT NULL, one_one_status BOOLEAN, enrolement_status BOOLEAN,details_id VARCHAR(40));''')"
   ]
  },
  {
   "cell_type": "code",
   "execution_count": 4,
   "id": "3bb14588",
   "metadata": {},
   "outputs": [
    {
     "data": {
      "text/plain": [
       "<sqlite3.Cursor at 0x1634d287440>"
      ]
     },
     "execution_count": 4,
     "metadata": {},
     "output_type": "execute_result"
    }
   ],
   "source": [
    "#CREATE carer table with care giver staffs details\n",
    "cur.execute('''CREATE TABLE carer (carer_id INTEGER PRIMARY KEY AUTOINCREMENT, first_name TEXT (20) NOT NULL, last_name TEXT (20) NOT NULL, org_name TEXT (20))''')"
   ]
  },
  {
   "cell_type": "code",
   "execution_count": 7,
   "id": "55bd6854",
   "metadata": {},
   "outputs": [
    {
     "data": {
      "text/plain": [
       "<sqlite3.Cursor at 0x1634d2873c0>"
      ]
     },
     "execution_count": 7,
     "metadata": {},
     "output_type": "execute_result"
    }
   ],
   "source": [
    "#CREATE activities register \n",
    "cur.execute('''CREATE TABLE activities_register (activity_code INTEGER PRIMARY KEY AUTOINCREMENT, activity_name TEXT(25), activity_description TEXT(45))''')"
   ]
  },
  {
   "cell_type": "code",
   "execution_count": 9,
   "id": "ea156088",
   "metadata": {},
   "outputs": [
    {
     "data": {
      "text/plain": [
       "<sqlite3.Cursor at 0x1634d2873c0>"
      ]
     },
     "execution_count": 9,
     "metadata": {},
     "output_type": "execute_result"
    }
   ],
   "source": [
    "#CREATE activities table for recording daily care_activities \n",
    "cur.execute('''CREATE TABLE activities (activity_id INTEGER PRIMARY KEY AUTOINCREMENT, carer_id INTEGER, patient_id INTEGER, activity_code INTEGER, date_time TEXT (25),  FOREIGN KEY (carer_id) REFERENCES carer (carer_id),  FOREIGN KEY (patient_id) REFERENCES patient (patient_id), FOREIGN KEY (activity_code) REFERENCES activities_register (activity_code))''')"
   ]
  },
  {
   "cell_type": "code",
   "execution_count": 10,
   "id": "b59f8768",
   "metadata": {},
   "outputs": [],
   "source": [
    "connection.commit()\n",
    "connection.close()"
   ]
  },
  {
   "cell_type": "markdown",
   "id": "85236f85",
   "metadata": {},
   "source": [
    "# NO SQL Create - Mongodb"
   ]
  },
  {
   "cell_type": "code",
   "execution_count": 15,
   "id": "17683102",
   "metadata": {},
   "outputs": [],
   "source": [
    "# Establish connection and configuration \n",
    "mg=MongoClient('localhost', 27017)\n",
    "mongo_db = mg.care_db_mongo #create new db / connect to existing"
   ]
  },
  {
   "cell_type": "code",
   "execution_count": 20,
   "id": "edc0ec24",
   "metadata": {},
   "outputs": [],
   "source": [
    "#create new collections\n",
    "patient_details = mongo_db.details \n",
    "activity_log = mongo_db.activity "
   ]
  },
  {
   "cell_type": "markdown",
   "id": "80d92c50",
   "metadata": {},
   "source": [
    "# Insert a new patient "
   ]
  },
  {
   "cell_type": "markdown",
   "id": "ed5eba77",
   "metadata": {},
   "source": [
    "Insert new patient details"
   ]
  },
  {
   "cell_type": "code",
   "execution_count": 4,
   "id": "ecd8903a",
   "metadata": {},
   "outputs": [
    {
     "data": {
      "application/vnd.jupyter.widget-view+json": {
       "model_id": "3a535822861842568450277b5b0e5307",
       "version_major": 2,
       "version_minor": 0
      },
      "text/plain": [
       "HTML(value='<h4><b>Enter patient details here</b></h4>')"
      ]
     },
     "metadata": {},
     "output_type": "display_data"
    },
    {
     "data": {
      "application/vnd.jupyter.widget-view+json": {
       "model_id": "8d4eaee5b79741128b8067a8a788047f",
       "version_major": 2,
       "version_minor": 0
      },
      "text/plain": [
       "Text(value='', description='First Name :', placeholder='Type first name')"
      ]
     },
     "metadata": {},
     "output_type": "display_data"
    },
    {
     "data": {
      "application/vnd.jupyter.widget-view+json": {
       "model_id": "be346e25767a4e0e96dfa49f594a6589",
       "version_major": 2,
       "version_minor": 0
      },
      "text/plain": [
       "Text(value='', description='Last Name :', placeholder='Type last name')"
      ]
     },
     "metadata": {},
     "output_type": "display_data"
    },
    {
     "data": {
      "application/vnd.jupyter.widget-view+json": {
       "model_id": "d0f8b59a79804582b43d314fba73c629",
       "version_major": 2,
       "version_minor": 0
      },
      "text/plain": [
       "DatePicker(value=None, description='Date of birth :')"
      ]
     },
     "metadata": {},
     "output_type": "display_data"
    },
    {
     "data": {
      "application/vnd.jupyter.widget-view+json": {
       "model_id": "8479164790ac4909979e3f7fb614761f",
       "version_major": 2,
       "version_minor": 0
      },
      "text/plain": [
       "Text(value='', description='Room no :', placeholder='Enter room number')"
      ]
     },
     "metadata": {},
     "output_type": "display_data"
    },
    {
     "data": {
      "application/vnd.jupyter.widget-view+json": {
       "model_id": "03c56f3e1166471f8af3db0b007420e8",
       "version_major": 2,
       "version_minor": 0
      },
      "text/plain": [
       "Text(value='', description='Emergency contact:', placeholder='Enter UK phone number')"
      ]
     },
     "metadata": {},
     "output_type": "display_data"
    },
    {
     "data": {
      "application/vnd.jupyter.widget-view+json": {
       "model_id": "704e4b3f134a4e53af1f96917170ecb3",
       "version_major": 2,
       "version_minor": 0
      },
      "text/plain": [
       "Dropdown(description='One-One:', index=1, options=('Yes', 'No'), value='No')"
      ]
     },
     "metadata": {},
     "output_type": "display_data"
    },
    {
     "data": {
      "application/vnd.jupyter.widget-view+json": {
       "model_id": "d27936a1c1434e6ba10f134b91b0882b",
       "version_major": 2,
       "version_minor": 0
      },
      "text/plain": [
       "HTML(value='<h4><b>Enter patient Schedule here</b></h4>')"
      ]
     },
     "metadata": {},
     "output_type": "display_data"
    },
    {
     "data": {
      "application/vnd.jupyter.widget-view+json": {
       "model_id": "a846d3c91dac4221b019597cdd9be361",
       "version_major": 2,
       "version_minor": 0
      },
      "text/plain": [
       "Textarea(value='', layout=Layout(flex='0 1 auto', height='100px', min_height='40px', width='auto'))"
      ]
     },
     "metadata": {},
     "output_type": "display_data"
    },
    {
     "data": {
      "application/vnd.jupyter.widget-view+json": {
       "model_id": "fd7b74ab6bc24e2e89a9f88ed6f6dcaa",
       "version_major": 2,
       "version_minor": 0
      },
      "text/plain": [
       "HTML(value='<h4><b>Enter patient Care Plan here</b></h4>')"
      ]
     },
     "metadata": {},
     "output_type": "display_data"
    },
    {
     "data": {
      "application/vnd.jupyter.widget-view+json": {
       "model_id": "3f2178ae62144fea855db0f360c4ac20",
       "version_major": 2,
       "version_minor": 0
      },
      "text/plain": [
       "Textarea(value='', layout=Layout(flex='0 1 auto', height='100px', min_height='40px', width='auto'))"
      ]
     },
     "metadata": {},
     "output_type": "display_data"
    },
    {
     "data": {
      "application/vnd.jupyter.widget-view+json": {
       "model_id": "3046dd6dd4784257807613fd8ecd40d4",
       "version_major": 2,
       "version_minor": 0
      },
      "text/plain": [
       "HTML(value='<h4><b>Enter patient Medical history here</b></h4>')"
      ]
     },
     "metadata": {},
     "output_type": "display_data"
    },
    {
     "data": {
      "application/vnd.jupyter.widget-view+json": {
       "model_id": "ee211b71f0604506abeae93a90864792",
       "version_major": 2,
       "version_minor": 0
      },
      "text/plain": [
       "Textarea(value='', layout=Layout(flex='0 1 auto', height='100px', min_height='40px', width='auto'))"
      ]
     },
     "metadata": {},
     "output_type": "display_data"
    },
    {
     "data": {
      "application/vnd.jupyter.widget-view+json": {
       "model_id": "82aa2a0351da44558401f57ba3b8ad9b",
       "version_major": 2,
       "version_minor": 0
      },
      "text/plain": [
       "Button(button_style='info', description='Submit', icon='check', style=ButtonStyle(), tooltip='Confirm informat…"
      ]
     },
     "metadata": {},
     "output_type": "display_data"
    }
   ],
   "source": [
    "#Define all our widgets\n",
    "button = widgets.Button(\n",
    "    description='Submit',\n",
    "    disabled=False,\n",
    "    button_style='info',\n",
    "    tooltip='Confirm information and submmit',\n",
    "    icon='check' \n",
    ")\n",
    "f_name = widgets.Text(\n",
    "placeholder='Type first name',\n",
    "description='First Name :'\n",
    ")\n",
    "l_name = widgets.Text(\n",
    "placeholder='Type last name',\n",
    "description='Last Name :'\n",
    ")\n",
    "dob = widgets.DatePicker(\n",
    "    description='Date of birth :',\n",
    "    disabled=False\n",
    ")\n",
    "room = widgets.Text(\n",
    "placeholder='Enter room number',\n",
    "description='Room no :'\n",
    ")\n",
    "ph_no = widgets.Text(\n",
    "placeholder='Enter UK phone number',\n",
    "description='Emergency contact:'\n",
    ")\n",
    "one_to_one = widgets.Dropdown(\n",
    "    options=['Yes', 'No'],\n",
    "    value='No',\n",
    "    description='One-One:',\n",
    "    disabled=False,\n",
    ")\n",
    "\n",
    "\n",
    "l = Layout(flex='0 1 auto', height='100px', min_height='40px', width='auto')\n",
    "care_plan = Textarea(value='', layout=l)\n",
    "schedule = Textarea(value='', layout=l)\n",
    "medical_history = Textarea(value='', layout=l)\n",
    "vb = VBox([schedule,care_plan,medical_history], layout=Layout(flex='1 1 auto', width='auto'))\n",
    "\n",
    "#Display all our widgets\n",
    "display( \n",
    "widgets.HTML(\n",
    "    value=\"<h4><b>Enter patient details here</b></h4>\",\n",
    "),f_name,l_name,dob,room,ph_no,one_to_one,widgets.HTML(\n",
    "    value=\"<h4><b>Enter patient Schedule here</b></h4>\",\n",
    "),schedule,widgets.HTML(\n",
    "    value=\"<h4><b>Enter patient Care Plan here</b></h4>\",\n",
    "),care_plan, widgets.HTML(\n",
    "    value=\"<h4><b>Enter patient Medical history here</b></h4>\",\n",
    "),medical_history,button)  \n",
    "\n",
    "#validation functions that could be expanded in future\n",
    "class vald:\n",
    "  def __init__(self, f_name, l_name, dob, room, ph_no, one_to_one):\n",
    "    self.f_name = f_name\n",
    "    self.l_name = l_name\n",
    "    self.dob = dob\n",
    "    self.room = room\n",
    "    self.ph_no = ph_no\n",
    "    self.one_to_one = one_to_one\n",
    "    \n",
    "  def validate(self):\n",
    "    if (self.f_name == '') or (self.l_name == '') or (self.dob == None) or (self.room == '') or (self.ph_no == ''):\n",
    "        print('Please make sure no fields are empty')\n",
    "        return 1\n",
    "    elif (str.isalpha(self.f_name) == False) or (str.isalpha(self.l_name) == False):\n",
    "        print('Please make sure name only contains alphabets')\n",
    "        return 1\n",
    "    elif (str.isdigit(self.room) == False) or (str.isdigit(self.ph_no) == False):\n",
    "        print('Please make sure room number only contains digits')\n",
    "        return 1\n",
    "    elif int(self.room)>10000:\n",
    "        print('Please ensure that the room number is under 10000')\n",
    "        return 1\n",
    "    elif int(self.ph_no)>9999999999999:\n",
    "        print('Please ensure that the phone number is a valid UK number')\n",
    "        return 1\n",
    "    else:\n",
    "        return 0\n",
    "\n",
    "\n",
    "#function for button click\n",
    "def button_click(click):\n",
    "    #Validation\n",
    "    p1 = vald(f_name.value, l_name.value, dob.value, room.value, ph_no.value, one_to_one.value)\n",
    "    if p1.validate()==0:\n",
    "        sql_qry = '''INSERT INTO patient(first_name,last_name,dob,room_no,emergency_contact,one_one_status,enrolement_status,details_id)VALUES(?,?,?,?,?,?,?,?);'''\n",
    "        if one_to_one.value == 'No':\n",
    "            one_one = 0\n",
    "        else:\n",
    "            one_one = 1\n",
    "        #insertion in mongo db with error handling\n",
    "        try:\n",
    "            mg=MongoClient('localhost', 27017)\n",
    "            mongo_db = mg.care_db_mongo\n",
    "            patient_details = mongo_db.details \n",
    "            details_id = str(uuid.uuid1()) #generate unique id\n",
    "            patient_details.insert_one({'_id':details_id,'schedule':str(schedule.value),'medical history':str(medical_history.value),'care plan':str(care_plan.value)})\n",
    "        except:\n",
    "            print(\"An issue occured while connecting with No-Sql database\")\n",
    "        data = (f_name.value, l_name.value, dob.value, room.value, ph_no.value, one_one,1,details_id)\n",
    "        #insertion in SQLite with error handling\n",
    "        try:\n",
    "            db = \"care_db.db\"\n",
    "            connection = sql.connect(db)\n",
    "            cur = connection.cursor()\n",
    "            cur.execute(sql_qry,data)\n",
    "            connection.commit()\n",
    "            connection.close()\n",
    "            clear_output()\n",
    "            print(\"\\n \\n Succesfully added new patient to database \\n \\n\")\n",
    "        except Exception as err:\n",
    "            print('Database insertion failed: %s\\nError: %s' % (sql_qry, str(err)))\n",
    "            \n",
    "button.on_click(button_click)"
   ]
  },
  {
   "cell_type": "markdown",
   "id": "2df4b740",
   "metadata": {},
   "source": [
    "# Read patient details"
   ]
  },
  {
   "cell_type": "code",
   "execution_count": 21,
   "id": "33160339",
   "metadata": {},
   "outputs": [
    {
     "name": "stdout",
     "output_type": "stream",
     "text": [
      "\n",
      "\n",
      " Name:dsf dfs \n",
      " DOB: 2022-07-14 \n",
      " Room no:23 \n",
      " Emergency contact 12 \n",
      " One-One status No\n"
     ]
    },
    {
     "data": {
      "application/vnd.jupyter.widget-view+json": {
       "model_id": "1d601ed220414134b81abd4157a4c83d",
       "version_major": 2,
       "version_minor": 0
      },
      "text/plain": [
       "HTML(value='<h4><b>Patient Schedule</b></h4>')"
      ]
     },
     "metadata": {},
     "output_type": "display_data"
    },
    {
     "name": "stdout",
     "output_type": "stream",
     "text": [
      "1221\n",
      "d yoyoyoyyoyyoo\n"
     ]
    },
    {
     "data": {
      "application/vnd.jupyter.widget-view+json": {
       "model_id": "13da673a7bf5454782bc4849beacd9ad",
       "version_major": 2,
       "version_minor": 0
      },
      "text/plain": [
       "HTML(value='<h4><b>Patient medical history</b></h4>')"
      ]
     },
     "metadata": {},
     "output_type": "display_data"
    },
    {
     "name": "stdout",
     "output_type": "stream",
     "text": [
      "d21xxxxxxxxxxxxxxxx22\n",
      "222222222222222222222222222222222222\n",
      "\n",
      "32325\n"
     ]
    },
    {
     "data": {
      "application/vnd.jupyter.widget-view+json": {
       "model_id": "e0fb458f7bc3473db6828a7bb89afa64",
       "version_major": 2,
       "version_minor": 0
      },
      "text/plain": [
       "HTML(value='<h4><b>Patient care plan</b></h4>')"
      ]
     },
     "metadata": {},
     "output_type": "display_data"
    },
    {
     "name": "stdout",
     "output_type": "stream",
     "text": [
      "d2112-ooooop- jjjjjjjjjjjjjjjjjjjjjjjjjjjjjjjjjjjj\n"
     ]
    }
   ],
   "source": [
    "#display patients inside drop box\n",
    "db = \"care_db.db\"\n",
    "connection = sql.connect(db)\n",
    "cur = connection.cursor()\n",
    "cur.execute('''SELECT patient_id,first_name,last_name,room_no FROM patient WHERE enrolement_status = 1''')\n",
    "display_tags = []\n",
    "id_tags = []\n",
    "for i in cur.fetchall():\n",
    "#     print(i)\n",
    "    id_tags.append(i[0])\n",
    "    display_tags.append(str(i[1])+\" \"+str(i[2]+\" \"+str(i[3])))\n",
    "\n",
    "#define widgets\n",
    "select = widgets.Dropdown(options=display_tags, value=  display_tags[0], description='Select Patient:')\n",
    "button = widgets.Button(\n",
    "    description='Go',\n",
    "    disabled=False,\n",
    "    button_style='',\n",
    "    tooltip='Insert details for this patient',\n",
    "    icon='' \n",
    ")\n",
    "#button click event\n",
    "def button_click(x):\n",
    "    clear_output()\n",
    "    p_id = id_tags[display_tags.index(select.value)]\n",
    "    cur.execute('''SELECT first_name,last_name,dob,room_no,emergency_contact,one_one_status FROM patient WHERE patient_id = '''+str(p_id))\n",
    "    for x in cur.fetchall():\n",
    "        if x[5]==1:\n",
    "            val = 'Yes'\n",
    "        else:\n",
    "            val = 'No'\n",
    "        print(f'\\n\\n Name:{x[0]} {x[1]} \\n DOB: {x[2]} \\n Room no:{x[3]} \\n Emergency contact {x[4]} \\n One-One status {val}')\n",
    "    details_id = cur.execute('''SELECT details_id FROM patient WHERE patient_id = '''+str(p_id))\n",
    "    search_id = details_id.fetchone()[0]\n",
    "    #search file in mongo db\n",
    "    mg=MongoClient('localhost', 27017)\n",
    "    mongo_db = mg.care_db_mongo\n",
    "    patient_details = mongo_db.details\n",
    "    document = patient_details.find_one({'_id': search_id})\n",
    "    display( \n",
    "    widgets.HTML(\n",
    "    value=\"<h4><b>Patient Schedule</b></h4>\",\n",
    "    ))\n",
    "    print(document.get('schedule'))\n",
    "    display( \n",
    "    widgets.HTML(\n",
    "    value=\"<h4><b>Patient medical history</b></h4>\",\n",
    "    ))\n",
    "    print(document.get('medical history'))\n",
    "    display( \n",
    "    widgets.HTML(\n",
    "    value=\"<h4><b>Patient care plan</b></h4>\",\n",
    "    ))\n",
    "    print(document.get('care plan'))\n",
    "    \n",
    "    \n",
    "display(select,button)\n",
    "button.on_click(button_click)"
   ]
  },
  {
   "cell_type": "markdown",
   "id": "3d7129c5",
   "metadata": {},
   "source": [
    "# Update patient details"
   ]
  },
  {
   "cell_type": "code",
   "execution_count": 3,
   "id": "2099b93f",
   "metadata": {
    "scrolled": false
   },
   "outputs": [
    {
     "name": "stdout",
     "output_type": "stream",
     "text": [
      " Frist name: tony \n",
      " Last name: chako \n",
      " Room no: 346 \n",
      " Currently on One-One: No\n"
     ]
    },
    {
     "data": {
      "application/vnd.jupyter.widget-view+json": {
       "model_id": "a600669c39a247c88bf90af771ed5f6a",
       "version_major": 2,
       "version_minor": 0
      },
      "text/plain": [
       "Button(button_style='warning', description='Unregister', style=ButtonStyle(), tooltip='Unregister this patient…"
      ]
     },
     "metadata": {},
     "output_type": "display_data"
    },
    {
     "data": {
      "text/plain": [
       "'Note: Once unregistered you would have to contact database administrator to re-register'"
      ]
     },
     "metadata": {},
     "output_type": "display_data"
    },
    {
     "data": {
      "application/vnd.jupyter.widget-view+json": {
       "model_id": "93797224514d4b79a1522fff7ae8607d",
       "version_major": 2,
       "version_minor": 0
      },
      "text/plain": [
       "Button(button_style='info', description='Toggle one-one', style=ButtonStyle(), tooltip='Change one-one status …"
      ]
     },
     "metadata": {},
     "output_type": "display_data"
    },
    {
     "data": {
      "application/vnd.jupyter.widget-view+json": {
       "model_id": "fb3031a73cc64f1bb74f3f10e72ed924",
       "version_major": 2,
       "version_minor": 0
      },
      "text/plain": [
       "Button(button_style='info', description='Change schedule', style=ButtonStyle(), tooltip='Change schedule for t…"
      ]
     },
     "metadata": {},
     "output_type": "display_data"
    },
    {
     "data": {
      "application/vnd.jupyter.widget-view+json": {
       "model_id": "1602880850d4471b9bd98accfb94f1f6",
       "version_major": 2,
       "version_minor": 0
      },
      "text/plain": [
       "Button(button_style='info', description='Change Care plan', style=ButtonStyle(), tooltip='Change Care plan for…"
      ]
     },
     "metadata": {},
     "output_type": "display_data"
    },
    {
     "data": {
      "application/vnd.jupyter.widget-view+json": {
       "model_id": "6a7b28cdca1241d1904b974058925b81",
       "version_major": 2,
       "version_minor": 0
      },
      "text/plain": [
       "Button(button_style='info', description='Change Medical history', style=ButtonStyle(), tooltip='Change Medical…"
      ]
     },
     "metadata": {},
     "output_type": "display_data"
    }
   ],
   "source": [
    "#display patients inside drop box\n",
    "db = \"care_db.db\"\n",
    "connection = sql.connect(db)\n",
    "cur = connection.cursor()\n",
    "cur.execute('''SELECT patient_id,first_name,last_name,room_no FROM patient WHERE enrolement_status = 1''')\n",
    "display_tags = []\n",
    "id_tags = []\n",
    "for i in cur.fetchall():\n",
    "#     print(i)\n",
    "    id_tags.append(i[0])\n",
    "    display_tags.append(str(i[1])+\" \"+str(i[2]+\" \"+str(i[3])))\n",
    "\n",
    "#define widgets\n",
    "select = widgets.Dropdown(options=display_tags, value=  display_tags[0], description='Select Patient:')\n",
    "button = widgets.Button(\n",
    "    description='Update',\n",
    "    disabled=False,\n",
    "    button_style='',\n",
    "    tooltip='Update details for this patient',\n",
    "    icon='' \n",
    ")\n",
    "unregister_patient= widgets.Button(\n",
    "    description='Unregister',\n",
    "    disabled=False,\n",
    "    button_style='warning',\n",
    "    tooltip='Unregister this patient from care',\n",
    "    icon='' \n",
    ")\n",
    "one_one_stat= widgets.Button(\n",
    "    description='Toggle one-one',\n",
    "    disabled=False,\n",
    "    button_style='info',\n",
    "    tooltip='Change one-one status for this patient',\n",
    "    icon='' \n",
    ")\n",
    "change_shedule = widgets.Button(\n",
    "    description='Change schedule',\n",
    "    disabled=False,\n",
    "    button_style='info',\n",
    "    tooltip='Change schedule for this patient',\n",
    "    icon='' \n",
    ")\n",
    "update_schedule = widgets.Button(\n",
    "    description='update',\n",
    "    disabled=False,\n",
    "    button_style='info',\n",
    "    tooltip='update with this information',\n",
    "    icon='' \n",
    ")\n",
    "change_care = widgets.Button(\n",
    "    description='Change Care plan',\n",
    "    disabled=False,\n",
    "    button_style='info',\n",
    "    tooltip='Change Care plan for this patient',\n",
    "    icon='' \n",
    ")\n",
    "update_care = widgets.Button(\n",
    "    description='update',\n",
    "    disabled=False,\n",
    "    button_style='info',\n",
    "    tooltip='update with this information',\n",
    "    icon='' \n",
    ")\n",
    "change_medical = widgets.Button(\n",
    "    description='Change Medical history',\n",
    "    disabled=False,\n",
    "    button_style='info',\n",
    "    tooltip='Change Medical history for this patient',\n",
    "    icon='' \n",
    ")\n",
    "update_medical = widgets.Button(\n",
    "    description='update',\n",
    "    disabled=False,\n",
    "    button_style='info',\n",
    "    tooltip='update with this information',\n",
    "    icon='' \n",
    ")\n",
    "\n",
    "l = Layout(flex='0 1 auto', height='100px', min_height='40px', width='auto')\n",
    "sch_area = Textarea(value='', layout=l)\n",
    "care_area = Textarea(value='', layout=l)\n",
    "\n",
    "temp = []\n",
    "temp2_one_one = []\n",
    "tem3_details = []\n",
    "\n",
    "def button_click(x):\n",
    "    clear_output()\n",
    "    p_id = id_tags[display_tags.index(select.value)]\n",
    "    temp.append(p_id)\n",
    "    cur.execute('''SELECT first_name,last_name,room_no,one_one_status FROM patient WHERE patient_id = '''+str(p_id))\n",
    "    data = cur.fetchall()[0]\n",
    "    if data[3] == 1:\n",
    "        val = 'Yes'\n",
    "    else:\n",
    "        val = 'No'\n",
    "    print(f' Frist name: {data[0]} \\n Last name: {data[1]} \\n Room no: {data[2]} \\n Currently on One-One: {val}')\n",
    "    display(unregister_patient,\"Note: Once unregistered you would have to contact database administrator to re-register\",\n",
    "            one_one_stat,change_shedule,change_care,change_medical)\n",
    "    temp2_one_one.append(data[3])\n",
    "\n",
    "def unregister(a):\n",
    "    cur.execute('''UPDATE patient SET enrolement_status=0 WHERE patient_id = '''+str(temp[0]))\n",
    "    connection.commit()\n",
    "    connection.close()\n",
    "    clear_output()\n",
    "    print(\"\\n \\n Patient succesfuly unregistered from care \\n \\n \")\n",
    "\n",
    "def one_one(b):\n",
    "    if temp2_one_one[0] == 1:\n",
    "        val = 0\n",
    "    else:\n",
    "        val = 1\n",
    "    cur.execute('''UPDATE patient SET one_one_status='''+ str(val) +''' WHERE patient_id = '''+str(temp[0]))\n",
    "    connection.commit()\n",
    "    connection.close()\n",
    "    clear_output()\n",
    "    print(\"\\n \\n Patient One-One status change \\n \\n \")\n",
    "#-------------------------------------------------------------------Updating schedule--------------------------------------------------------------------------\n",
    "def sched(c):\n",
    "    clear_output()\n",
    "    cur.execute('''SELECT details_id FROM patient WHERE patient_id = '''+str(temp[0]))\n",
    "    id_details = cur.fetchall()[0][0]\n",
    "    tem3_details.append(id_details)\n",
    "    try:\n",
    "        mg=MongoClient('localhost', 27017)\n",
    "        mongo_db = mg.care_db_mongo\n",
    "        patient_details = mongo_db.details \n",
    "        sched_finder = patient_details.find_one({\"_id\": id_details})\n",
    "    except:\n",
    "        print(\"An issue occured while connecting with No-Sql database\")\n",
    "    print(\"Edit Schedule below\")\n",
    "    l = Layout(flex='0 1 auto', height='100px', min_height='40px', width='auto')\n",
    "    sch_area = Textarea(value=str(sched_finder.get('schedule')), layout=l,disabled=False)\n",
    "    display(sch_area,update_schedule)\n",
    "\n",
    "    def confirm_sched(d):\n",
    "        try:\n",
    "            mg=MongoClient('localhost', 27017)\n",
    "            mongo_db = mg.care_db_mongo\n",
    "            patient_details = mongo_db.details\n",
    "            newvalues = { \"$set\": { \"schedule\": str(sch_area.value) } }\n",
    "            patient_details.update_one({\"_id\": tem3_details[0]}, newvalues)\n",
    "            clear_output()\n",
    "            print('Data has been updated')\n",
    "        except:\n",
    "            print(\"An issue occured while connecting with No-Sql database\")\n",
    "    update_schedule.on_click(confirm_sched)\n",
    "#------------------------------------------------------------------Updating care plan--------------------------------------------------------------------------\n",
    "def care(x):\n",
    "    clear_output()\n",
    "    cur.execute('''SELECT details_id FROM patient WHERE patient_id = '''+str(temp[0]))\n",
    "    id_details = cur.fetchall()[0][0]\n",
    "    tem3_details.append(id_details)\n",
    "    try:\n",
    "        mg=MongoClient('localhost', 27017)\n",
    "        mongo_db = mg.care_db_mongo\n",
    "        patient_details = mongo_db.details \n",
    "        sched_finder = patient_details.find_one({\"_id\": id_details})\n",
    "    except:\n",
    "        print(\"An issue occured while connecting with No-Sql database\")\n",
    "    print(\"Edit Care plan below\")\n",
    "    l = Layout(flex='0 1 auto', height='100px', min_height='40px', width='auto')\n",
    "    sch_area = Textarea(value=str(sched_finder.get('care plan')), layout=l,disabled=False)\n",
    "    display(sch_area,update_care)\n",
    "\n",
    "    def confirm_care_fun(d):\n",
    "        try:\n",
    "            mg=MongoClient('localhost', 27017)\n",
    "            mongo_db = mg.care_db_mongo\n",
    "            patient_details = mongo_db.details\n",
    "            newvalues = { \"$set\": { \"care plan\": str(sch_area.value) } }\n",
    "            patient_details.update_one({\"_id\": tem3_details[0]}, newvalues)\n",
    "            clear_output()\n",
    "            print('Data has been updated')\n",
    "        except:\n",
    "            print(\"An issue occured while connecting with No-Sql database\")\n",
    "    update_care.on_click(confirm_care_fun)    \n",
    "#--------------------------------------------------------------------Updating medical history----------------------------------------------------------------------\n",
    "def med(x):\n",
    "    clear_output()\n",
    "    cur.execute('''SELECT details_id FROM patient WHERE patient_id = '''+str(temp[0]))\n",
    "    id_details = cur.fetchall()[0][0]\n",
    "    tem3_details.append(id_details)\n",
    "    try:\n",
    "        mg=MongoClient('localhost', 27017)\n",
    "        mongo_db = mg.care_db_mongo\n",
    "        patient_details = mongo_db.details \n",
    "        sched_finder = patient_details.find_one({\"_id\": id_details})\n",
    "    except:\n",
    "        print(\"An issue occured while connecting with No-Sql database\")\n",
    "    print(\"Edit Medical history below\")\n",
    "    l = Layout(flex='0 1 auto', height='100px', min_height='40px', width='auto')\n",
    "    sch_area = Textarea(value=str(sched_finder.get('medical history')), layout=l,disabled=False)\n",
    "    display(sch_area,update_medical)\n",
    "\n",
    "    def confirm_medical(d):\n",
    "        try:\n",
    "            mg=MongoClient('localhost', 27017)\n",
    "            mongo_db = mg.care_db_mongo\n",
    "            patient_details = mongo_db.details\n",
    "            newvalues = { \"$set\": { \"medical history\": str(sch_area.value) } }\n",
    "            patient_details.update_one({\"_id\": tem3_details[0]}, newvalues)\n",
    "            clear_output()\n",
    "            print('Data has been updated')\n",
    "        except:\n",
    "            print(\"An issue occured while connecting with No-Sql database\")\n",
    "    update_medical.on_click(confirm_medical)  \n",
    "\n",
    "#---------------------------------------------------------------------------------------------------------------------------------------\n",
    "\n",
    "display(select,button)\n",
    "button.on_click(button_click)\n",
    "unregister_patient.on_click(unregister)\n",
    "one_one_stat.on_click(one_one)\n",
    "change_shedule.on_click(sched)\n",
    "change_care.on_click(care)\n",
    "change_medical.on_click(med)"
   ]
  },
  {
   "cell_type": "markdown",
   "id": "c53137c0",
   "metadata": {},
   "source": [
    "# Delete patient details permenantly"
   ]
  },
  {
   "cell_type": "code",
   "execution_count": 20,
   "id": "17bcdcd9",
   "metadata": {},
   "outputs": [
    {
     "data": {
      "application/vnd.jupyter.widget-view+json": {
       "model_id": "df5aae2b667a4466b246c84aeea5e589",
       "version_major": 2,
       "version_minor": 0
      },
      "text/plain": [
       "Dropdown(description='Select Patient:', options=('Bonny bekham 125', 'tony chako 346', 'henry don 2', 'merlin …"
      ]
     },
     "metadata": {},
     "output_type": "display_data"
    },
    {
     "data": {
      "application/vnd.jupyter.widget-view+json": {
       "model_id": "35a35f932eb14f38b08579a0180df273",
       "version_major": 2,
       "version_minor": 0
      },
      "text/plain": [
       "Button(button_style='warning', description='DELETE !', style=ButtonStyle(), tooltip='Delete this patient from …"
      ]
     },
     "metadata": {},
     "output_type": "display_data"
    }
   ],
   "source": [
    "db = \"care_db.db\"\n",
    "connection = sql.connect(db)\n",
    "cur = connection.cursor()\n",
    "cur.execute('''SELECT patient_id,first_name,last_name,room_no,details_id FROM patient''')\n",
    "display_tags = []\n",
    "id_tags = []\n",
    "details_tags = []\n",
    "\n",
    "for i in cur.fetchall():\n",
    "#     print(i)\n",
    "    id_tags.append(i[0])\n",
    "    display_tags.append(str(i[1])+\" \"+str(i[2]+\" \"+str(i[3])))\n",
    "    details_tags.append(str(i[4]))\n",
    "    \n",
    "select = widgets.Dropdown(options=display_tags, value=  display_tags[0], description='Select Patient:')\n",
    "button = widgets.Button(\n",
    "    description='DELETE !',\n",
    "    disabled=False,\n",
    "    button_style='Warning',\n",
    "    tooltip='Delete this patient from Database',\n",
    "    icon='' \n",
    ")\n",
    "def del_button(x):\n",
    "    del_id = id_tags[display_tags.index(select.value)]\n",
    "    del_details = details_tags[display_tags.index(select.value)]\n",
    "    try:\n",
    "        cur.execute('''DELETE FROM patient WHERE patient_id = '''+str(del_id))\n",
    "        connection.commit()\n",
    "        connection.close()\n",
    "        mg=MongoClient('localhost', 27017)\n",
    "        mongo_db = mg.care_db_mongo\n",
    "        patient_details = mongo_db.details\n",
    "        patient_details.delete_one({\"_id\": del_details})\n",
    "        print(\"succesfully deleted patient details from all databases\")\n",
    "    except:\n",
    "        print(\"A problem occured, check db\")\n",
    "\n",
    "\n",
    "display(select,button)\n",
    "button.on_click(del_button)"
   ]
  },
  {
   "cell_type": "markdown",
   "id": "5e95ec9b",
   "metadata": {},
   "source": [
    "# INSERT carer details"
   ]
  },
  {
   "cell_type": "code",
   "execution_count": 12,
   "id": "0c84d543",
   "metadata": {},
   "outputs": [
    {
     "name": "stdout",
     "output_type": "stream",
     "text": [
      "\n",
      " \n",
      " Succesfully added new carer \n",
      " \n",
      " \n"
     ]
    }
   ],
   "source": [
    "button = widgets.Button(\n",
    "    description='Submit',\n",
    "    disabled=False,\n",
    "    button_style='info',\n",
    "    tooltip='Confirm and submmit',\n",
    "    icon='check' \n",
    ")\n",
    "f_name = widgets.Text(\n",
    "placeholder='Type first name',\n",
    "description='First Name :'\n",
    ")\n",
    "l_name = widgets.Text(\n",
    "placeholder='Type last name',\n",
    "description='Last Name :'\n",
    ")\n",
    "o_name = widgets.Text(\n",
    "placeholder='Type organization name',\n",
    "description='Org name :'\n",
    ")\n",
    "display(widgets.HTML(\n",
    "    value=\"<h4><b>Enter carer details</b></h4>\",\n",
    "    ),f_name,l_name,o_name,button)\n",
    "\n",
    "def button_fun(x):\n",
    "    try:\n",
    "        db = \"care_db.db\"\n",
    "        connection = sql.connect(db)\n",
    "        cur = connection.cursor()\n",
    "        data = (f_name.value,l_name.value,o_name.value)\n",
    "        sql_qry = '''INSERT INTO carer(first_name,last_name,org_name)VALUES(?,?,?);'''\n",
    "        cur.execute(sql_qry,data)\n",
    "        clear_output()\n",
    "        print(\"\\n \\n Succesfully added new carer \\n \\n \")\n",
    "        connection.commit()\n",
    "        connection.close()\n",
    "    except:\n",
    "        print(\"An error occured while connecting database\")\n",
    "button.on_click(button_fun)"
   ]
  },
  {
   "cell_type": "markdown",
   "id": "6477ee04",
   "metadata": {},
   "source": [
    "# Read carer details"
   ]
  },
  {
   "cell_type": "code",
   "execution_count": 20,
   "id": "9e326332",
   "metadata": {},
   "outputs": [
    {
     "name": "stdout",
     "output_type": "stream",
     "text": [
      " First name : Bob Cnya \n",
      " Organization name: staff \n",
      " ------------------------------------------------------\n",
      " First name : Diya C \n",
      " Organization name: nurse plus \n",
      " ------------------------------------------------------\n",
      " First name : Tommy dicoda \n",
      " Organization name: staff \n",
      " ------------------------------------------------------\n"
     ]
    }
   ],
   "source": [
    "db = \"care_db.db\"\n",
    "connection = sql.connect(db)\n",
    "cur = connection.cursor()\n",
    "cur.execute('''SELECT * FROM carer ''')\n",
    "for i in cur.fetchall():\n",
    "    print(f' First name : {i[1]} {i[2]} \\n Organization name: {i[3]} \\n ------------------------------------------------------')\n",
    "connection.commit()\n",
    "connection.close()"
   ]
  },
  {
   "cell_type": "markdown",
   "id": "810a8b66",
   "metadata": {},
   "source": [
    "# Delete carer details"
   ]
  },
  {
   "cell_type": "code",
   "execution_count": 24,
   "id": "886368d2",
   "metadata": {},
   "outputs": [
    {
     "data": {
      "application/vnd.jupyter.widget-view+json": {
       "model_id": "800eaca0398649a49850e6ffc6c7b438",
       "version_major": 2,
       "version_minor": 0
      },
      "text/plain": [
       "Dropdown(description='Select Carer:', options=('Bob Cnya staff', 'Diya C nurse plus', 'Tommy dicoda staff'), v…"
      ]
     },
     "metadata": {},
     "output_type": "display_data"
    },
    {
     "data": {
      "application/vnd.jupyter.widget-view+json": {
       "model_id": "fa601fec073d4d28b8c7703abc042465",
       "version_major": 2,
       "version_minor": 0
      },
      "text/plain": [
       "Button(button_style='warning', description='DELETE !', style=ButtonStyle(), tooltip='Delete this patient from …"
      ]
     },
     "metadata": {},
     "output_type": "display_data"
    },
    {
     "name": "stdout",
     "output_type": "stream",
     "text": [
      "succesfully deleted patient details from all databases\n"
     ]
    }
   ],
   "source": [
    "db = \"care_db.db\"\n",
    "connection = sql.connect(db)\n",
    "cur = connection.cursor()\n",
    "cur.execute('''SELECT carer_id,first_name,last_name,org_name FROM carer''')\n",
    "display_tags = []\n",
    "id_tags = []\n",
    "\n",
    "for i in cur.fetchall():\n",
    "#     print(i)\n",
    "    id_tags.append(i[0])\n",
    "    display_tags.append(str(i[1])+\" \"+str(i[2]+\" \"+str(i[3])))\n",
    "    \n",
    "select = widgets.Dropdown(options=display_tags, value=  display_tags[0], description='Select Carer:')\n",
    "button = widgets.Button(\n",
    "    description='DELETE !',\n",
    "    disabled=False,\n",
    "    button_style='Warning',\n",
    "    tooltip='Delete this patient from Database',\n",
    "    icon='' \n",
    ")\n",
    "\n",
    "def del_button(x):\n",
    "    del_id = id_tags[display_tags.index(select.value)]\n",
    "    try:\n",
    "        cur.execute('''DELETE FROM carer WHERE carer_id = '''+str(del_id))\n",
    "        connection.commit()\n",
    "        connection.close()\n",
    "        print(\"succesfully deleted carer details from database\")\n",
    "    except:\n",
    "        print(\"A problem occured, check db\")\n",
    "\n",
    "\n",
    "display(select,button)\n",
    "button.on_click(del_button)"
   ]
  },
  {
   "cell_type": "code",
   "execution_count": null,
   "id": "8d0ec117",
   "metadata": {},
   "outputs": [],
   "source": []
  }
 ],
 "metadata": {
  "kernelspec": {
   "display_name": "Python 3 (ipykernel)",
   "language": "python",
   "name": "python3"
  },
  "language_info": {
   "codemirror_mode": {
    "name": "ipython",
    "version": 3
   },
   "file_extension": ".py",
   "mimetype": "text/x-python",
   "name": "python",
   "nbconvert_exporter": "python",
   "pygments_lexer": "ipython3",
   "version": "3.10.2"
  }
 },
 "nbformat": 4,
 "nbformat_minor": 5
}
